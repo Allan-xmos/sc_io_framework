{
 "cells": [
  {
   "cell_type": "markdown",
   "id": "ccc61334-38ac-4c86-a86a-bd2975d5a60d",
   "metadata": {},
   "source": [
    "# sw_audio_dsp pipeline designer\n",
    "\n",
    "In this file you can generate the DSP pipeline of your choice.\n",
    "\n",
    "Below you will find 4 cells which can be modified and executed to configure, tune and run the desired pipeline.\n",
    "\n"
   ]
  },
  {
   "cell_type": "markdown",
   "id": "0acbc09d",
   "metadata": {},
   "source": [
    "1. This is the pipeline design cell. Here you must break the DSP pipeline down into threads and use the provided DSP stages to create a pipeline. Running this cell will produce a diagram showing your pipeline. Make sure to capture each stage in your pipeline as a variable, as it will be needed in the next step.\n",
    "Note that every time the pipeline cell is changed, the app must be regenerated before the tuning stage can work correctly as the stage indices used for communication may have changed."
   ]
  },
  {
   "cell_type": "code",
   "execution_count": null,
   "id": "f3806bd0-99e0-42b6-a084-e9a2f17ba7dc",
   "metadata": {},
   "outputs": [],
   "source": [
    "# Pipeline design stage\n",
    "\n",
    "from audio_dsp.design.pipeline import Pipeline\n",
    "from audio_dsp.stages.signal_chain import Fork, VolumeControl, Switch, Adder, Mixer, Bypass\n",
    "from audio_dsp.stages.noise_suppressor_expander import NoiseSuppressorExpander\n",
    "from audio_dsp.stages.cascaded_biquads import CascadedBiquads\n",
    "from audio_dsp.stages.compressor_sidechain import CompressorSidechain\n",
    "from audio_dsp.stages.envelope_detector import EnvelopeDetectorRMS\n",
    "from audio_dsp.stages.reverb import ReverbRoom\n",
    "\n",
    "# 6 inputs\n",
    "# 0, 1: USB \n",
    "# 2, 3: live  (IN 1/2)\n",
    "# 4   : Mic   (In 3)\n",
    "# 5   : Mic   (In 4)\n",
    "p, i = Pipeline.begin(6, fs=46000)\n",
    "\n",
    "mus_0 = p.stage(Adder, i[0, 2])\n",
    "mus_1 = p.stage(Adder, i[1, 3])\n",
    "mics = p.stage(Adder, i[4:])\n",
    "mic_vc = p.stage(VolumeControl, mics, label=\"mic_vc\")\n",
    "music_vc = p.stage(VolumeControl, mus_0 + mus_1, \"music_vc\")\n",
    "peq, env_mic, peq_bypass = p.stage(Fork, mic_vc, count=3).forks\n",
    "p.stage(EnvelopeDetectorRMS, env_mic, \"mic_vu\")\n",
    "\n",
    "peq = p.stage(CascadedBiquads, peq, \"peq\")\n",
    "peq_sw = p.stage(Switch, peq_bypass + peq, \"peq_enable\")\n",
    "\n",
    "ns = p.stage(NoiseSuppressorExpander, peq_sw, \"denoise\")\n",
    "\n",
    "p.next_thread()\n",
    "rv_bypass, rv = p.stage(Fork, ns).forks\n",
    "rv = p.stage(ReverbRoom, rv, \"reverb\", max_room_size=1.5)  # Set room size here\n",
    "reverb_sw = p.stage(Switch, rv_bypass + rv, \"reverb_enable\")\n",
    "duck_bypass, duck = p.stage(Fork, music_vc).forks\n",
    "\n",
    "p.next_thread()\n",
    "processed_mic = p.stage(Fork, reverb_sw, count=6).forks\n",
    "duck0 = p.stage(CompressorSidechain, duck[0] + processed_mic[0], \"duck0\")\n",
    "duck_sw0 = p.stage(Switch, duck_bypass[0] + duck0, \"duck0_enable\")\n",
    "duck1 = p.stage(CompressorSidechain, duck[1] + processed_mic[1], \"duck1\")\n",
    "duck_sw1 = p.stage(Switch, duck_bypass[1] + duck1, \"duck1_enable\")\n",
    "loopback_0 = p.stage(Adder, duck_sw0 + processed_mic[2])\n",
    "loopback_1 = p.stage(Adder, duck_sw1 + processed_mic[3])\n",
    "\n",
    "p.next_thread()\n",
    "loopback, monitor = p.stage(Fork, loopback_0 + loopback_1).forks\n",
    "sw0 = p.stage(Switch, processed_mic[4] + loopback[0], \"game_loopback_switch_ch0\")\n",
    "sw1 = p.stage(Switch, processed_mic[5] + loopback[1], \"game_loopback_switch_ch1\")\n",
    "monitor0, monitor1 = p.stage(VolumeControl, monitor, \"monitor_vc\")\n",
    "output_vc = p.stage(VolumeControl, sw0 + sw1, \"output_vc\")\n",
    "monitor0, monitor_vu = p.stage(Fork, monitor0).forks\n",
    "p.stage(EnvelopeDetectorRMS, monitor_vu, \"out_vu\")\n",
    "output, live = p.stage(Fork, output_vc, count=2).forks\n",
    "live = p.stage(Mixer, live)\n",
    "\n",
    "# 0, 1: USB\n",
    "# 2, 3: headphone (OUT 1/2)\n",
    "# 4   : live      (OUT 3)\n",
    "p.set_outputs(output + monitor0 + monitor1 + live + None)\n",
    "p.draw()\n"
   ]
  },
  {
   "cell_type": "markdown",
   "id": "27e9d385",
   "metadata": {},
   "source": [
    "2. This is the tuning cell. Parameters of each stage can be modified and these will be included in the generated DSP pipeline application."
   ]
  },
  {
   "cell_type": "code",
   "execution_count": null,
   "id": "89d245d6-b908-4815-ae22-fa10e40d65dc",
   "metadata": {},
   "outputs": [],
   "source": [
    "# Tuning stage\n",
    "\n",
    "# envelope detector\n",
    "p[\"mic_vu\"].make_env_det_rms(attack_t = 0.05, release_t = 0.15)\n",
    "p[\"out_vu\"].make_env_det_rms(attack_t = 0.05, release_t = 0.15)\n",
    "\n",
    "# PEQ\n",
    "# Each entry in this peq list maps to a biquad designer method in \n",
    "# lib_audio_dsp/python/audio_dsp/dsp/biquad.py.\n",
    "p[\"peq\"].make_parametric_eq([\n",
    "    [\"notch\", 500, 5],\n",
    "    [\"notch\", 1000, 5],\n",
    "    [\"notch\", 2000, 5],\n",
    "    [\"notch\", 4000, 5],\n",
    "    [\"notch\", 8000, 5],\n",
    "    [\"notch\", 16000, 5],\n",
    "])\n",
    "p[\"peq\"].plot_frequency_response()\n",
    "\n",
    "# Noise suppressor, compute 2 thresholds and pasted into a header file. NS_THRESHOLD_HIGH\n",
    "# and NS_THRESHOLD_LOW are toggled between when denoise is pressed\n",
    "p[\"denoise\"].make_noise_suppressor_expander(ratio=3, threshold_db=-35, attack_t=0.005, release_t=0.12)\n",
    "threshold_high = p[\"denoise\"].get_config()[\"threshold\"]\n",
    "p[\"denoise\"].make_noise_suppressor_expander(ratio=3, threshold_db=-45, attack_t=0.005, release_t=0.12)\n",
    "threshold_low = p[\"denoise\"].get_config()[\"threshold\"]\n",
    "from pathlib import Path\n",
    "Path(\"src/audio_dsp/dsp_pipeline/ns_thresholds.h\").write_text(f\"\"\"\n",
    "///AUTOGENERATED///\n",
    "#pragma once\n",
    "#define NS_THRESHOLD_HIGH {threshold_high}\n",
    "#define NS_THRESHOLD_LOW  {threshold_low}\n",
    "\"\"\")\n",
    "\n",
    "# ducking\n",
    "p[\"duck0\"].make_compressor_sidechain(ratio=5, threshold_db=-40, attack_t=0.01, release_t=0.5)\n",
    "p[\"duck1\"].make_compressor_sidechain(ratio=5, threshold_db=-40, attack_t=0.01, release_t=0.5)\n"
   ]
  },
  {
   "cell_type": "markdown",
   "id": "2113ddc3",
   "metadata": {},
   "source": [
    "3. This is the build and run cell. This stage generates an application which uses your pipeline, and it runs the application on a connected device using xrun. The tuning parameters set in the previous cell are baked in the application."
   ]
  },
  {
   "cell_type": "code",
   "execution_count": null,
   "id": "32492495-d82a-45ba-87e3-80b01de38981",
   "metadata": {},
   "outputs": [],
   "source": [
    "# Build and run\n",
    "\n",
    "from audio_dsp.design.pipeline import generate_dsp_main\n",
    "from build_utils import build_and_try_run\n",
    "\n",
    "generate_dsp_main(p, out_dir=\"src/audio_dsp/dsp_pipeline\")\n",
    "build_and_try_run()\n"
   ]
  },
  {
   "cell_type": "code",
   "execution_count": null,
   "id": "d098a1b7-85ee-4435-8328-3435a793e859",
   "metadata": {},
   "outputs": [],
   "source": []
  }
 ],
 "metadata": {
  "kernelspec": {
   "display_name": "Python 3 (ipykernel)",
   "language": "python",
   "name": "python3"
  },
  "language_info": {
   "codemirror_mode": {
    "name": "ipython",
    "version": 3
   },
   "file_extension": ".py",
   "mimetype": "text/x-python",
   "name": "python",
   "nbconvert_exporter": "python",
   "pygments_lexer": "ipython3",
   "version": "3.12.0"
  }
 },
 "nbformat": 4,
 "nbformat_minor": 5
}
